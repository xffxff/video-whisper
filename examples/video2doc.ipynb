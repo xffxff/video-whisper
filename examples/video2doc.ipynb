{
 "cells": [
  {
   "cell_type": "code",
   "execution_count": null,
   "id": "23e32fd3-be21-4dc5-8715-8a239e3b1ac6",
   "metadata": {},
   "outputs": [],
   "source": [
    "import os\n",
    "os.environ[\"CUDA_VISIBLE_DEVICES\"] = \"2,3\""
   ]
  },
  {
   "cell_type": "markdown",
   "id": "87019493-e101-482e-a428-0df5293ca773",
   "metadata": {},
   "source": [
    "## Split The Video\n",
    "\n",
    "Split the video into seperate clips using [`PySceneDetect`](https://www.scenedetect.com/)"
   ]
  },
  {
   "cell_type": "code",
   "execution_count": null,
   "id": "dc13ff6d-a0ec-4548-a567-55f43ee3b892",
   "metadata": {},
   "outputs": [],
   "source": [
    "video_file = 'how_cuda_programming_works_gtc2022.mp4'"
   ]
  },
  {
   "cell_type": "code",
   "execution_count": null,
   "id": "d6012e66-ab9f-40d7-879e-5e838509ea7c",
   "metadata": {},
   "outputs": [],
   "source": [
    "# !scenedetect -i \"$video_file\" split-video -o video_clips"
   ]
  },
  {
   "cell_type": "code",
   "execution_count": null,
   "id": "e1ed47f6-1507-45a7-b0b0-208d3a0236a0",
   "metadata": {},
   "outputs": [],
   "source": []
  },
  {
   "cell_type": "code",
   "execution_count": null,
   "id": "dc7d08a2-3cc4-4bcf-b7f7-b09930aa6af3",
   "metadata": {},
   "outputs": [],
   "source": [
    "from video2doc.video_understanding import VideoUnderstandingWithAria, load_video, fix_json, timestamp_to_seconds, get_frame_at_timestamp, split_video_into_scenes\n",
    "from video2doc.whisper import Whisper, extract_audio, merge_chunks_by_timerange"
   ]
  },
  {
   "cell_type": "code",
   "execution_count": null,
   "id": "339c81c2-eeef-40be-908b-8fa1b157516e",
   "metadata": {},
   "outputs": [],
   "source": [
    "whisper = Whisper(device='cuda:0')\n",
    "video_understanding_with_aria = VideoUnderstandingWithAria('rhymes-ai/Aria')"
   ]
  },
  {
   "cell_type": "code",
   "execution_count": null,
   "id": "b03a64dd-d53b-4afd-8e5b-fc47693fe50f",
   "metadata": {},
   "outputs": [],
   "source": [
    "import json\n",
    "def process_video_to_doc(video_file: str, video_name: str, output_folder: str):\n",
    "    \"\"\"Process a video file and save scenes with transcriptions to markdown\"\"\"\n",
    "    import os\n",
    "    from pathlib import Path\n",
    "    \n",
    "    # Create output directory if it doesn't exist\n",
    "    output_path = Path(output_folder)\n",
    "    output_path.mkdir(parents=True, exist_ok=True)\n",
    "    \n",
    "    audio_path = extract_audio(video_file)\n",
    "    transcription = whisper(audio_path)\n",
    "    \n",
    "    frames, timestemps = load_video(video_file)\n",
    "    scenes = split_video_into_scenes(video_understanding_with_aria, frames, timestemps)\n",
    "    \n",
    "    # Create markdown content\n",
    "    markdown_content = \"\"\n",
    "    \n",
    "    for i, scene in enumerate(scenes, 1):\n",
    "        start = scene['start_time']\n",
    "        end = scene['end_time']\n",
    "        scene_transcription = merge_chunks_by_timerange(transcription['chunks'], start, end)\n",
    "        \n",
    "        # Save frame image\n",
    "        frame = get_frame_at_timestamp(video_file, max(end - 3, (start + end) // 2))\n",
    "        image_filename = f\"{video_name}_scene_{i}.jpg\"\n",
    "        frame.save(output_path / image_filename)\n",
    "        \n",
    "        # Add scene to markdown - only transcription and image\n",
    "        markdown_content += f\"{scene_transcription}\\n\\n\"\n",
    "        markdown_content += f\"![Scene {i}]({image_filename})\\n\\n\"\n",
    "    \n",
    "    # Write markdown file\n",
    "    markdown_path = output_path / f\"readme.md\"\n",
    "    with open(markdown_path, \"a\", encoding=\"utf-8\") as f:\n",
    "        f.write(markdown_content)\n",
    "    \n",
    "    return markdown_path"
   ]
  },
  {
   "cell_type": "code",
   "execution_count": null,
   "id": "5f57b34e-db7c-480a-8d95-10ff96037118",
   "metadata": {},
   "outputs": [],
   "source": [
    "def list_mp4_files(folder_path: str) -> list[str]:\n",
    "    import os\n",
    "    import re\n",
    "    \n",
    "    def get_scene_number(filename: str) -> int:\n",
    "        match = re.search(r'Scene-(\\d+)', filename)\n",
    "        return int(match.group(1)) if match else float('inf')\n",
    "    \n",
    "    mp4_files = []\n",
    "    for file in os.listdir(folder_path):\n",
    "        if file.lower().endswith('.mp4'):\n",
    "            mp4_files.append(os.path.join(folder_path, file))\n",
    "    \n",
    "    return sorted(mp4_files, key=get_scene_number)"
   ]
  },
  {
   "cell_type": "code",
   "execution_count": null,
   "id": "1f44d247-57cf-4a17-a304-cdd56dc6ae08",
   "metadata": {},
   "outputs": [],
   "source": [
    "video_clips = list_mp4_files('./video_clips')"
   ]
  },
  {
   "cell_type": "code",
   "execution_count": null,
   "id": "3f4237d0-9ab2-4c12-8e79-6d4b42685ed4",
   "metadata": {},
   "outputs": [],
   "source": [
    "import torch\n",
    "\n",
    "for i, video_clip in enumerate(video_clips):\n",
    "    torch.cuda.empty_cache()\n",
    "    print(f'Processing video clip: {video_clip}')\n",
    "    process_video_to_doc(video_clip, f\"clip_{i}\", './')"
   ]
  },
  {
   "cell_type": "code",
   "execution_count": null,
   "id": "305f963c-167e-4619-a3ce-f9f6faf740d8",
   "metadata": {},
   "outputs": [],
   "source": []
  },
  {
   "cell_type": "code",
   "execution_count": null,
   "id": "ed251df8-5a7b-483e-a49c-71038a1b8fc0",
   "metadata": {},
   "outputs": [],
   "source": []
  }
 ],
 "metadata": {
  "kernelspec": {
   "display_name": "Python 3 (ipykernel)",
   "language": "python",
   "name": "python3"
  },
  "language_info": {
   "codemirror_mode": {
    "name": "ipython",
    "version": 3
   },
   "file_extension": ".py",
   "mimetype": "text/x-python",
   "name": "python",
   "nbconvert_exporter": "python",
   "pygments_lexer": "ipython3",
   "version": "3.10.15"
  }
 },
 "nbformat": 4,
 "nbformat_minor": 5
}
